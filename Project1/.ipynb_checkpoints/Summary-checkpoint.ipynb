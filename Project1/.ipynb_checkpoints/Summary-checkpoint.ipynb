{
 "cells": [
  {
   "cell_type": "markdown",
   "metadata": {},
   "source": [
    "# First Project - Finding best areas to canvas"
   ]
  },
  {
   "cell_type": "markdown",
   "metadata": {},
   "source": [
    "__EXERCISE__\n",
    "\n",
    "A non-profit organization is trying to raise awareness about women in technology. They want you to identify the best areas to canvas during the day. They want to place teams at the entrancesto various subway stations. At which stations do they have the most success?"
   ]
  },
  {
   "cell_type": "markdown",
   "metadata": {},
   "source": [
    "__APPROACH__\n",
    "\n",
    "The aim was to estimate at each subway station for each day the number of people, who would be interested in the topic. As a result,the stations with the highest estimation are supposed to be the best spot to canvas.\n",
    "\n",
    "Different aspects were considered to estimate the number of people, who would be interested in the topic. These aspects were brought together based on assumptions. \n",
    "1. if there is a meetup close to the station at a specific day\n",
    "2. if there is a university close to the station\n",
    "3. number of people at each subway station"
   ]
  },
  {
   "cell_type": "markdown",
   "metadata": {},
   "source": [
    "__ASSUMPTIONS__\n",
    "- The number of people using the subway is constant for each weekday (that means, the number of people using the subway next Monday is the same as last Monday)\n",
    "- Only 1% of the random people are interested in the topic \"Woman in technology\"\n",
    "- If there is a university, the number of people interested in the topic should be increased by 200 person (Development of the method: the number should be based on the enrollment of the university, e.g. 15% of all enrollments). Universities have a influence only from Monday to Friday.\n",
    "- If there is a meetup on the specific day, the number of people interested in the topic should be increased by 100 person (Development of the method: the number should be based on the participants of the meetup, e.g. 90%)."
   ]
  },
  {
   "cell_type": "markdown",
   "metadata": {},
   "source": [
    "__USED DATASETS__\n",
    "\n",
    "- Tech meetups in NYC (www.meetup.com with filter \"tech\" within 5 miles from New York) - web scraping\n",
    "- NY Subway Station with coordinates from data.ny.gov\n",
    "(https://data.ny.gov/Transportation/NYC-Transit-Subway-Entrance-And-Exit-Data/i9wp-a4ja\n",
    "- Turnstile data from Metropolitan Transportation Authority \n",
    "(http://web.mta.info/developers/turnstile.html)\n",
    "- Location of universities in New York from NYC OpenData\n",
    "(https://data.cityofnewyork.us/Education/Colleges-and-Universities/4kym-4xw5)\n"
   ]
  },
  {
   "cell_type": "markdown",
   "metadata": {},
   "source": [
    "__EXPLANATION__\n",
    "\n",
    "_1. Aspect - meetups_\n",
    "\n",
    "At first the webpage of meetup.com were scraped to identify all tech groups within 5 miles of New York. Alle the event of each of these tech groups were iported in a dataset (df_groups). Events with missing location or date were deleted from the dataset. \n",
    "\n",
    "The coordinates of each address in the dataset were assigned by means of GoogleMaps API.\n",
    "\n",
    "By means of the NY Subway station coordinates from data.ny.gov, the closest subway station to each event was calculated. The closest subway station had the smallest Euclidean distance with the coordinates of the meetup-event.\n",
    "In case a subway station had more entrances, only the coordinates of the first entrance was used. (It would be possible to check all the coordinates, but because of performance reasons the dataset was filtered.)\n",
    "\n",
    "_2. Aspect - universities_\n",
    "\n",
    "A similar procedure was used as by the meetups. By means of the data about the location of universities, the coordinates of each universities was imported in a dataset. With the same procedure as by the meetups, to each university the closest station was defined. \n",
    "\n",
    "_3. Aspect - Foot traffic in NYC subway_ \n",
    "\n",
    "By means of the turnstile data for each metro station, the average number of people using the metro was defined for each weekday. The total entries and exits were added together and divided by two, to get the number of people using the subway. (I used a dataset of 2 weeks, and took the average of the total number, to have a more stabil estimation of people using the subway.)\n",
    "\n",
    "_Merging the datasets_\n",
    "\n",
    "The source of two datasets containing the turnstile data and the geocodes of the subway stations were different, that's why there were couple of station names, which were different. (e.g. all the streetnames with a number were written differently: 28TH STREET vs. 28 STREET). By means of a dictionary the two datasets were harmonized.\n",
    "\n",
    "After all the support-datasets were prepared, a new dataset was constructed: The dates of the next 2 weeks were mixed with the subway station (as a cartesian product). For each record, the corresponding data of the support datasets were assigned: \n",
    "1. number of people using the subway (nr_people)\n",
    "2. number of meetups nearby (nr_meetup)\n",
    "3. number of universities nearby (nr_university)\n",
    "\n",
    "The expected number of people, who are interested in the topic can be calculated as following:\n",
    "1. for each station, the expected number is 1 % of the total number of people using the subway\n",
    "2. for each station and day, the expected number should be increased by 100 per meetup\n",
    "3. for each station, the expected number should be increased by 200 per university on weekdays\n",
    "\n",
    "expected_nr= nr_people * 1% + nr_meetups * 100 (on days of meetups)+ nr_university * 200 (only on workdays)\n"
   ]
  },
  {
   "cell_type": "code",
   "execution_count": null,
   "metadata": {
    "collapsed": true
   },
   "outputs": [],
   "source": []
  }
 ],
 "metadata": {
  "anaconda-cloud": {},
  "kernelspec": {
   "display_name": "Python [default]",
   "language": "python",
   "name": "python3"
  },
  "language_info": {
   "codemirror_mode": {
    "name": "ipython",
    "version": 3
   },
   "file_extension": ".py",
   "mimetype": "text/x-python",
   "name": "python",
   "nbconvert_exporter": "python",
   "pygments_lexer": "ipython3",
   "version": "3.5.2"
  }
 },
 "nbformat": 4,
 "nbformat_minor": 1
}
